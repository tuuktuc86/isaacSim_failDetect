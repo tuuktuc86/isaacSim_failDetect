{
 "cells": [
  {
   "cell_type": "code",
   "execution_count": 1,
   "id": "690ce559-af59-4032-b2bb-0ce4c94a7e6b",
   "metadata": {},
   "outputs": [
    {
     "ename": "ModuleNotFoundError",
     "evalue": "No module named 'torch'",
     "output_type": "error",
     "traceback": [
      "\u001b[0;31m---------------------------------------------------------------------------\u001b[0m",
      "\u001b[0;31mModuleNotFoundError\u001b[0m                       Traceback (most recent call last)",
      "Cell \u001b[0;32mIn[1], line 12\u001b[0m\n\u001b[1;32m     10\u001b[0m \u001b[38;5;28;01mimport\u001b[39;00m\u001b[38;5;250m \u001b[39m\u001b[38;5;21;01mos\u001b[39;00m  \u001b[38;5;66;03m# 운영체제와 상호작용(경로 생성, 파일 시스템 접근 등)을 위한 라이브러리\u001b[39;00m\n\u001b[1;32m     11\u001b[0m \u001b[38;5;28;01mimport\u001b[39;00m\u001b[38;5;250m \u001b[39m\u001b[38;5;21;01mrandom\u001b[39;00m  \u001b[38;5;66;03m# 무작위 숫자 생성, 샘플링 등을 위한 라이브러리\u001b[39;00m\n\u001b[0;32m---> 12\u001b[0m \u001b[38;5;28;01mimport\u001b[39;00m\u001b[38;5;250m \u001b[39m\u001b[38;5;21;01mtorch\u001b[39;00m  \u001b[38;5;66;03m# PyTorch 라이브러리, 텐서 연산을 위해 사용\u001b[39;00m\n\u001b[1;32m     13\u001b[0m \u001b[38;5;28;01mimport\u001b[39;00m\u001b[38;5;250m \u001b[39m\u001b[38;5;21;01mgc\u001b[39;00m  \u001b[38;5;66;03m# Garbage Collector, 명시적인 메모리 수거를 위해 사용\u001b[39;00m\n\u001b[1;32m     14\u001b[0m \u001b[38;5;28;01mimport\u001b[39;00m\u001b[38;5;250m \u001b[39m\u001b[38;5;21;01msys\u001b[39;00m  \u001b[38;5;66;03m# 파이썬 인터프리터 제어(스크립트 종료 등)를 위한 라이브러리\u001b[39;00m\n",
      "\u001b[0;31mModuleNotFoundError\u001b[0m: No module named 'torch'"
     ]
    }
   ],
   "source": [
    "# Copyright (c) 2022-2025, The Isaac Lab Project Developers (https://github.com/isaac-sim/IsaacLab/blob/main/CONTRIBUTORS.md).\n",
    "# All rights reserved.\n",
    "#\n",
    "# SPDX-License-Identifier: BSD-3-Clause\n",
    "\n",
    "# --- 기본 라이브러리 및 명령줄 인자 파서 임포트 ---\n",
    "import argparse  # 스크립트 실행 시 커맨드 라인 인자를 파싱하기 위한 라이브러리\n",
    "import glob  # 파일 경로에서 와일드카드(*)를 사용하여 여러 파일 목록을 가져오기 위한 라이브러리\n",
    "import math  # 수학 연산(pi, 삼각함수 등)을 위한 라이브러리\n",
    "import os  # 운영체제와 상호작용(경로 생성, 파일 시스템 접근 등)을 위한 라이브러리\n",
    "import random  # 무작위 숫자 생성, 샘플링 등을 위한 라이브러리\n",
    "import torch  # PyTorch 라이브러리, 텐서 연산을 위해 사용\n",
    "import gc  # Garbage Collector, 명시적인 메모리 수거를 위해 사용\n",
    "import sys  # 파이썬 인터프리터 제어(스크립트 종료 등)를 위한 라이브러리\n",
    "import json  # 메타데이터 저장을 위한 JSON 라이브러리\n",
    "from isaaclab.app import AppLauncher  # Isaac Lab 시뮬레이션 앱을 시작하고 설정하기 위한 기본 클래스\n",
    "\n",
    "# --- 스크립트 레벨 설정 ---\n",
    "# 생성할 총 에피소드(데이터셋)의 개수\n",
    "NUM_EPISODES_TO_GENERATE = 1000\n",
    "# YCB 객체의 3D 모델(USD 파일)이 저장된 경로 패턴\n",
    "YCB_OBJECTS_USD_PATH =  os.path.join(os.getcwd(), \"data/assets/ycb_usd/ycb/*/final.usd\")\n"
   ]
  },
  {
   "cell_type": "code",
   "execution_count": null,
   "id": "5a9fbb08-cac0-427c-a584-c046a68e5cd7",
   "metadata": {},
   "outputs": [],
   "source": []
  }
 ],
 "metadata": {
  "kernelspec": {
   "display_name": "Isaac Lab Python",
   "language": "python",
   "name": "isaaclab-wrapper"
  },
  "language_info": {
   "codemirror_mode": {
    "name": "ipython",
    "version": 3
   },
   "file_extension": ".py",
   "mimetype": "text/x-python",
   "name": "python",
   "nbconvert_exporter": "python",
   "pygments_lexer": "ipython3",
   "version": "3.10.15"
  }
 },
 "nbformat": 4,
 "nbformat_minor": 5
}
