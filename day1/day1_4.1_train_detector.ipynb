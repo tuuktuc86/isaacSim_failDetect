{
 "cells": [
  {
   "cell_type": "markdown",
   "metadata": {},
   "source": [
    "<span style=\"font-size:150%\">라이브러리</span>"
   ]
  },
  {
   "cell_type": "code",
   "execution_count": 1,
   "metadata": {},
   "outputs": [
    {
     "name": "stdout",
     "output_type": "stream",
     "text": [
      "/AILAB-summer-school-2025\n"
     ]
    }
   ],
   "source": [
    "import os,sys\n",
    "sys.path.append(os.path.abspath('./../'))\n",
    "\n",
    "print(os.path.abspath('./../'))\n",
    "import torch\n",
    "import torchvision\n",
    "import torchvision.models.detection as detection\n",
    "from torch.utils.data import DataLoader\n",
    "from torchvision.models import ResNet50_Weights\n",
    "\n",
    "# import torchvision.transforms as T\n",
    "from day1.coco import transforms as T\n",
    "from day1.coco.engine import train_one_epoch\n",
    "from torchvision.utils import * \n",
    "from day1.datasets import PennFudanDataset\n",
    "\n",
    "import matplotlib.pyplot as plt\n",
    "import cv2\n",
    "%matplotlib inline"
   ]
  },
  {
   "cell_type": "markdown",
   "metadata": {},
   "source": [
    "<span style=\"font-size:150%\">경로 및 파라미터 설정</span>"
   ]
  },
  {
   "cell_type": "code",
   "execution_count": null,
   "metadata": {},
   "outputs": [],
   "source": [
    "data_path = './data/PennFudanPed'\n",
    "save_path = './parameters'\n",
    "os.makedirs(save_path, exist_ok=True)\n",
    "num_epoch = 10\n",
    "\n",
    "device = torch.device('cuda') if torch.cuda.is_available() else torch.device('cpu')"
   ]
  },
  {
   "cell_type": "markdown",
   "metadata": {},
   "source": [
    "<span style=\"font-size:150%\">어그멘테이션 설정</span>"
   ]
  },
  {
   "cell_type": "code",
   "execution_count": null,
   "metadata": {},
   "outputs": [],
   "source": [
    "def get_transform(train):\n",
    "    transforms = []\n",
    "    transforms.append(T.PILToTensor())\n",
    "    transforms.append(T.ConvertImageDtype(torch.float))\n",
    "    if train:\n",
    "        transforms.append(T.RandomHorizontalFlip(0.5))\n",
    "    return T.Compose(transforms)"
   ]
  },
  {
   "cell_type": "markdown",
   "metadata": {},
   "source": [
    "<span style=\"font-size:150%\">데이터셋</span>"
   ]
  },
  {
   "cell_type": "code",
   "execution_count": null,
   "metadata": {},
   "outputs": [],
   "source": [
    "def collate_fn(batch):\n",
    "    \"\"\"\n",
    "    Object Detection용 collate function\n",
    "    batch: [(image1, target1), (image2, target2), ...]\n",
    "    반환: (images, targets) where images=[image1, image2, ...], targets=[target1, target2, ...]\n",
    "    \"\"\"\n",
    "    images, targets = tuple(zip(*batch))\n",
    "    images = list(images)\n",
    "    targets = list(targets)\n",
    "    return images, targets"
   ]
  },
  {
   "cell_type": "code",
   "execution_count": null,
   "metadata": {},
   "outputs": [],
   "source": [
    "trainset = PennFudanDataset(data_path, get_transform(train=True))\n",
    "testset = PennFudanDataset(data_path, get_transform(train=False))\n",
    "\n",
    "indices = [i for i in range(len(trainset))]\n",
    "dataset = torch.utils.data.Subset(trainset, indices[:-1])\n",
    "dataset_test = torch.utils.data.Subset(testset, indices[-1:])\n",
    "\n",
    "trainLoader = DataLoader(dataset, batch_size=1, shuffle=True, collate_fn=collate_fn)\n",
    "testLoader = DataLoader(dataset_test, batch_size=1, shuffle=False, collate_fn = collate_fn)"
   ]
  },
  {
   "cell_type": "markdown",
   "metadata": {},
   "source": [
    "<span style=\"font-size:150%\">모델 선언</span>"
   ]
  },
  {
   "cell_type": "code",
   "execution_count": null,
   "metadata": {},
   "outputs": [],
   "source": [
    "backbone = detection.backbone_utils.resnet_fpn_backbone(backbone_name='resnet50', weights=ResNet50_Weights.IMAGENET1K_V2)\n",
    "\n",
    "anchor_generator = detection.rpn.AnchorGenerator(sizes=((32,), (64,), (128,), (256,), (512,),),\n",
    "                                                 aspect_ratios=((0.5, 1.0, 2.0),)*5)\n",
    "\n",
    "roi_pooler = torchvision.ops.MultiScaleRoIAlign(featmap_names=['0', '1', '2', '3'],\n",
    "                                                output_size=7,\n",
    "                                                sampling_ratio=2)\n",
    "\n",
    "model = detection.FasterRCNN(backbone,\n",
    "                   num_classes=2,\n",
    "                   rpn_anchor_generator=anchor_generator,\n",
    "                   box_roi_pool=roi_pooler)\n",
    "model = model.to(device)\n",
    "optimizer = torch.optim.SGD(model.parameters(), lr=0.01, weight_decay=0.0005)"
   ]
  },
  {
   "cell_type": "markdown",
   "metadata": {},
   "source": [
    "<span style=\"font-size:150%\">모델 학습</span>"
   ]
  },
  {
   "cell_type": "code",
   "execution_count": null,
   "metadata": {},
   "outputs": [],
   "source": [
    "for epoch in range(num_epoch):\n",
    "    train_one_epoch(model, optimizer, trainLoader, device, epoch, print_freq=10)\n",
    "torch.save(model.state_dict(), os.path.join(save_path, 'detector.pth'))"
   ]
  },
  {
   "cell_type": "markdown",
   "metadata": {},
   "source": [
    "<span style=\"font-size:150%\">모델 출력 시각화</span>"
   ]
  },
  {
   "cell_type": "code",
   "execution_count": null,
   "metadata": {},
   "outputs": [],
   "source": [
    "imgs, targets= next(iter(testLoader))\n",
    "img = imgs[0]\n",
    "sample = img.permute(1,2,0).cpu().numpy()\n",
    "target = targets[0]\n",
    "boxes = target['boxes'].cpu().numpy().astype(int)\n",
    "print(boxes)"
   ]
  },
  {
   "cell_type": "code",
   "execution_count": null,
   "metadata": {},
   "outputs": [],
   "source": [
    "model.eval()\n",
    "device = torch.device('cpu')\n",
    "model = model.to(device)\n",
    "outputs = model(img.unsqueeze(0))\n",
    "outputs = [{k: v.to(device) for k, v in t.items()} for t in outputs]"
   ]
  },
  {
   "cell_type": "code",
   "execution_count": null,
   "metadata": {},
   "outputs": [],
   "source": [
    "fig, ax = plt.subplots(1, 1, figsize=(16, 8))\n",
    "\n",
    "mean_score = torch.mean(outputs[0]['scores'])\n",
    "\n",
    "for box, score in zip(outputs[0]['boxes'].int(), outputs[0]['scores']):\n",
    "    print(box, score)\n",
    "    if score > 0.5:\n",
    "        cv2.rectangle(sample,(box[0].item(), box[1].item()),(box[2].item(), box[3].item()),(225, 0, 0), 3)\n",
    "        \n",
    "for box in zip(targets[0]['boxes'].int()):\n",
    "    box = box[0]\n",
    "    cv2.rectangle(sample,(box[0].item(), box[1].item()),(box[2].item(), box[3].item()),(0, 0, 255), 3)\n",
    "    \n",
    "ax.set_axis_off()\n",
    "ax.imshow(sample)"
   ]
  }
 ],
 "metadata": {
  "kernelspec": {
   "display_name": "Python 3",
   "language": "python",
   "name": "python3"
  },
  "language_info": {
   "codemirror_mode": {
    "name": "ipython",
    "version": 3
   },
   "file_extension": ".py",
   "mimetype": "text/x-python",
   "name": "python",
   "nbconvert_exporter": "python",
   "pygments_lexer": "ipython3",
   "version": "3.10.15"
  },
  "orig_nbformat": 4
 },
 "nbformat": 4,
 "nbformat_minor": 2
}
